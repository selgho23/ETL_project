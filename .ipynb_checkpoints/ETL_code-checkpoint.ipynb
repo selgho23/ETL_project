{
 "cells": [
  {
   "cell_type": "markdown",
   "metadata": {},
   "source": [
    "# Transportation in California Counties "
   ]
  },
  {
   "cell_type": "markdown",
   "metadata": {},
   "source": [
    "## Preliminaries"
   ]
  },
  {
   "cell_type": "code",
   "execution_count": 1,
   "metadata": {},
   "outputs": [],
   "source": [
    "# Dependencies\n",
    "import pylab as plt\n",
    "import pandas as pd\n",
    "import numpy as np\n",
    "import os\n",
    "import time"
   ]
  },
  {
   "cell_type": "markdown",
   "metadata": {},
   "source": [
    "## Extract"
   ]
  },
  {
   "cell_type": "code",
   "execution_count": 2,
   "metadata": {},
   "outputs": [],
   "source": [
    "# File Paths to CSVs we are importing\n",
    "traffic_modes_path = os.path.join(\"Resources\", \"transportation-to-work.csv\")\n",
    "traffic_injuries_path = os.path.join(\"Resources\", \"road-traffic-injuries.csv\")\n",
    "\n",
    "# Use Pandas to read CSV files\n",
    "traffic_modes_df = pd.read_csv(traffic_modes_path, low_memory=False)\n",
    "traffic_injuries_df = pd.read_csv(traffic_injuries_path, low_memory=False)"
   ]
  },
  {
   "cell_type": "markdown",
   "metadata": {},
   "source": [
    "## Transform\n",
    "### Group Datasets to Build Category Specific Tables"
   ]
  },
  {
   "cell_type": "code",
   "execution_count": 5,
   "metadata": {},
   "outputs": [],
   "source": [
    "# Build reference tables orgnaized by county, region, transportation modes, and race and ethnicity\n",
    "### Tables for traffic_modes_df\n",
    "TM_counties_df = pd.DataFrame\\\n",
    "    (traffic_modes_df.groupby(['county_name', 'county_fips', 'region_code']).size())\n",
    "\n",
    "TM_regions_df = pd.DataFrame\\\n",
    "    (traffic_modes_df.groupby(['region_name', 'region_code']).size())\n",
    "\n",
    "TM_transport_modes_df = pd.DataFrame\\\n",
    "    (traffic_modes_df.groupby(['mode', 'mode_name']).size()) \n",
    "\n",
    "TM_race_eth_df = pd.DataFrame\\\n",
    "    (traffic_modes_df.groupby(['race_eth_name', 'race_eth_code']).size())  \n",
    "\n",
    "### Tables for traffic_injuries_df\n",
    "TI_counties_df = pd.DataFrame\\\n",
    "    (traffic_injuries_df.groupby(['county_name', 'county_fips', 'region_code']).size())\n",
    "\n",
    "TI_regions_df = pd.DataFrame\\\n",
    "    (traffic_injuries_df.groupby(['region_name', 'region_code']).size())\n",
    "\n",
    "TI_transport_modes_df = pd.DataFrame\\\n",
    "    (traffic_injuries_df.groupby(['mode']).size())                           \n",
    "\n",
    "TI_race_eth_df = pd.DataFrame\\\n",
    "    (traffic_injuries_df.groupby(['race_eth_name', 'race_eth_code']).size())"
   ]
  },
  {
   "cell_type": "code",
   "execution_count": 6,
   "metadata": {},
   "outputs": [],
   "source": [
    "# Delete unecessary columns and reset indices\n",
    "df_list = [TM_counties_df, TM_regions_df, \n",
    "           TM_transport_modes_df, TM_race_eth_df,\n",
    "           TI_counties_df, TI_regions_df, \n",
    "           TI_transport_modes_df, TI_race_eth_df]\n",
    "\n",
    "for df in df_list:\n",
    "    df.reset_index(inplace=True)\n",
    "    del df[0]"
   ]
  },
  {
   "cell_type": "code",
   "execution_count": 40,
   "metadata": {},
   "outputs": [],
   "source": [
    "# Join traffic_modes tables to traffic_injuries table for all categories accept transportation modes\n",
    "counties_joined = pd.merge(TM_counties_df, TI_counties_df, \\\n",
    "                           on=['county_name', 'county_fips', 'region_code'], how='outer')\n",
    "\n",
    "regions_joined = pd.merge(TM_regions_df, TI_regions_df, \\\n",
    "                          on=['region_name', 'region_code'], how='outer')\n",
    "\n",
    "race_eth_joined = pd.merge(TM_race_eth_df, TI_race_eth_df, \\\n",
    "                           on=['race_eth_name', 'race_eth_code'], how='outer')"
   ]
  },
  {
   "cell_type": "code",
   "execution_count": 41,
   "metadata": {},
   "outputs": [
    {
     "data": {
      "text/html": [
       "<div>\n",
       "<style scoped>\n",
       "    .dataframe tbody tr th:only-of-type {\n",
       "        vertical-align: middle;\n",
       "    }\n",
       "\n",
       "    .dataframe tbody tr th {\n",
       "        vertical-align: top;\n",
       "    }\n",
       "\n",
       "    .dataframe thead th {\n",
       "        text-align: right;\n",
       "    }\n",
       "</style>\n",
       "<table border=\"1\" class=\"dataframe\">\n",
       "  <thead>\n",
       "    <tr style=\"text-align: right;\">\n",
       "      <th></th>\n",
       "      <th>county_name</th>\n",
       "      <th>totalpop</th>\n",
       "    </tr>\n",
       "  </thead>\n",
       "  <tbody>\n",
       "    <tr>\n",
       "      <th>0</th>\n",
       "      <td>Alameda</td>\n",
       "      <td>4.861985e+08</td>\n",
       "    </tr>\n",
       "    <tr>\n",
       "      <th>1</th>\n",
       "      <td>Alpine</td>\n",
       "      <td>1.628877e+05</td>\n",
       "    </tr>\n",
       "    <tr>\n",
       "      <th>2</th>\n",
       "      <td>Amador</td>\n",
       "      <td>6.461525e+06</td>\n",
       "    </tr>\n",
       "    <tr>\n",
       "      <th>3</th>\n",
       "      <td>Butte</td>\n",
       "      <td>5.474099e+07</td>\n",
       "    </tr>\n",
       "    <tr>\n",
       "      <th>4</th>\n",
       "      <td>Calaveras</td>\n",
       "      <td>7.369064e+06</td>\n",
       "    </tr>\n",
       "  </tbody>\n",
       "</table>\n",
       "</div>"
      ],
      "text/plain": [
       "  county_name      totalpop\n",
       "0     Alameda  4.861985e+08\n",
       "1      Alpine  1.628877e+05\n",
       "2      Amador  6.461525e+06\n",
       "3       Butte  5.474099e+07\n",
       "4   Calaveras  7.369064e+06"
      ]
     },
     "execution_count": 41,
     "metadata": {},
     "output_type": "execute_result"
    }
   ],
   "source": [
    "# We want to provide total population per county, only traffic_injuries_df supplies this info\n",
    "total_pop_per_county = traffic_injuries_df\\\n",
    "    [['county_name','totalpop']].groupby(['county_name']).sum()\n",
    "\n",
    "# Reset the index so that 'county_name' is treated as a column\n",
    "total_pop_per_county.reset_index(inplace=True)\n",
    "total_pop_per_county.head()"
   ]
  },
  {
   "cell_type": "code",
   "execution_count": 43,
   "metadata": {},
   "outputs": [
    {
     "data": {
      "text/html": [
       "<div>\n",
       "<style scoped>\n",
       "    .dataframe tbody tr th:only-of-type {\n",
       "        vertical-align: middle;\n",
       "    }\n",
       "\n",
       "    .dataframe tbody tr th {\n",
       "        vertical-align: top;\n",
       "    }\n",
       "\n",
       "    .dataframe thead th {\n",
       "        text-align: right;\n",
       "    }\n",
       "</style>\n",
       "<table border=\"1\" class=\"dataframe\">\n",
       "  <thead>\n",
       "    <tr style=\"text-align: right;\">\n",
       "      <th></th>\n",
       "      <th>county_name</th>\n",
       "      <th>county_fips</th>\n",
       "      <th>region_code</th>\n",
       "      <th>totalpop</th>\n",
       "    </tr>\n",
       "  </thead>\n",
       "  <tbody>\n",
       "    <tr>\n",
       "      <th>0</th>\n",
       "      <td>Alameda</td>\n",
       "      <td>6001.0</td>\n",
       "      <td>1.0</td>\n",
       "      <td>4861.99</td>\n",
       "    </tr>\n",
       "    <tr>\n",
       "      <th>1</th>\n",
       "      <td>Alpine</td>\n",
       "      <td>6003.0</td>\n",
       "      <td>3.0</td>\n",
       "      <td>1.63</td>\n",
       "    </tr>\n",
       "    <tr>\n",
       "      <th>2</th>\n",
       "      <td>Amador</td>\n",
       "      <td>6005.0</td>\n",
       "      <td>3.0</td>\n",
       "      <td>64.62</td>\n",
       "    </tr>\n",
       "    <tr>\n",
       "      <th>3</th>\n",
       "      <td>Butte</td>\n",
       "      <td>6007.0</td>\n",
       "      <td>2.0</td>\n",
       "      <td>547.41</td>\n",
       "    </tr>\n",
       "    <tr>\n",
       "      <th>4</th>\n",
       "      <td>Calaveras</td>\n",
       "      <td>6009.0</td>\n",
       "      <td>3.0</td>\n",
       "      <td>73.69</td>\n",
       "    </tr>\n",
       "  </tbody>\n",
       "</table>\n",
       "</div>"
      ],
      "text/plain": [
       "  county_name  county_fips  region_code  totalpop\n",
       "0     Alameda       6001.0          1.0   4861.99\n",
       "1      Alpine       6003.0          3.0      1.63\n",
       "2      Amador       6005.0          3.0     64.62\n",
       "3       Butte       6007.0          2.0    547.41\n",
       "4   Calaveras       6009.0          3.0     73.69"
      ]
     },
     "execution_count": 43,
     "metadata": {},
     "output_type": "execute_result"
    }
   ],
   "source": [
    "# Add totalpop to counties_joined\n",
    "counties_pop_joined = pd.merge\\\n",
    "    (counties_joined, total_pop_per_county, on='county_name', how='outer')\n",
    "\n",
    "# Adjust number format of 'totalpop' column\n",
    "counties_pop_joined['totalpop'] = counties_pop_joined['totalpop']/(10**5)\n",
    "counties_pop_joined['totalpop'] = counties_pop_joined['totalpop'].round(2)\n",
    "\n",
    "counties_pop_joined.head()"
   ]
  },
  {
   "cell_type": "markdown",
   "metadata": {},
   "source": [
    "### Filter Datasets for Desired Statistics"
   ]
  },
  {
   "cell_type": "code",
   "execution_count": 122,
   "metadata": {},
   "outputs": [
    {
     "data": {
      "text/html": [
       "<div>\n",
       "<style scoped>\n",
       "    .dataframe tbody tr th:only-of-type {\n",
       "        vertical-align: middle;\n",
       "    }\n",
       "\n",
       "    .dataframe tbody tr th {\n",
       "        vertical-align: top;\n",
       "    }\n",
       "\n",
       "    .dataframe thead th {\n",
       "        text-align: right;\n",
       "    }\n",
       "</style>\n",
       "<table border=\"1\" class=\"dataframe\">\n",
       "  <thead>\n",
       "    <tr style=\"text-align: right;\">\n",
       "      <th></th>\n",
       "      <th>mode</th>\n",
       "      <th>mode_name</th>\n",
       "      <th>pop_mode</th>\n",
       "      <th>county_fips</th>\n",
       "      <th>race_eth_code</th>\n",
       "    </tr>\n",
       "  </thead>\n",
       "  <tbody>\n",
       "    <tr>\n",
       "      <th>0</th>\n",
       "      <td>WALK</td>\n",
       "      <td>Walked to work</td>\n",
       "      <td>0.0</td>\n",
       "      <td>6003.0</td>\n",
       "      <td>5</td>\n",
       "    </tr>\n",
       "    <tr>\n",
       "      <th>1</th>\n",
       "      <td>ATHOME</td>\n",
       "      <td>Worked at home</td>\n",
       "      <td>54.0</td>\n",
       "      <td>6001.0</td>\n",
       "      <td>1</td>\n",
       "    </tr>\n",
       "    <tr>\n",
       "      <th>2</th>\n",
       "      <td>ATHOME</td>\n",
       "      <td>Worked at home</td>\n",
       "      <td>3001.0</td>\n",
       "      <td>6001.0</td>\n",
       "      <td>2</td>\n",
       "    </tr>\n",
       "    <tr>\n",
       "      <th>3</th>\n",
       "      <td>ATHOME</td>\n",
       "      <td>Worked at home</td>\n",
       "      <td>2287.0</td>\n",
       "      <td>6001.0</td>\n",
       "      <td>3</td>\n",
       "    </tr>\n",
       "    <tr>\n",
       "      <th>4</th>\n",
       "      <td>ATHOME</td>\n",
       "      <td>Worked at home</td>\n",
       "      <td>2080.0</td>\n",
       "      <td>6001.0</td>\n",
       "      <td>4</td>\n",
       "    </tr>\n",
       "  </tbody>\n",
       "</table>\n",
       "</div>"
      ],
      "text/plain": [
       "     mode       mode_name  pop_mode  county_fips  race_eth_code\n",
       "0    WALK  Walked to work       0.0       6003.0              5\n",
       "1  ATHOME  Worked at home      54.0       6001.0              1\n",
       "2  ATHOME  Worked at home    3001.0       6001.0              2\n",
       "3  ATHOME  Worked at home    2287.0       6001.0              3\n",
       "4  ATHOME  Worked at home    2080.0       6001.0              4"
      ]
     },
     "execution_count": 122,
     "metadata": {},
     "output_type": "execute_result"
    }
   ],
   "source": [
    "# Create a table that documents workers modes of transportation\n",
    "# and is linked to the counties/race_eth tables \n",
    "modes_of_transportation = traffic_modes_df\\\n",
    "    [['mode','mode_name', 'pop_mode','county_fips', 'race_eth_code']].\\\n",
    "    ### We are only concerned with data corresponding to counties \n",
    "    ### so disregard rows with data corresponding to other geotypes\n",
    "    loc[traffic_modes_df['county_fips'].isna() == False]\n",
    "\n",
    "# Reset index so that it starts from 0\n",
    "modes_of_transportation.reset_index(level=0, inplace=True); del modes_of_transportation['index']\n",
    "\n",
    "# NAN in 'popmode' corresponds to 0 workers so replace\n",
    "modes_of_transportation = modes_of_transportation.fillna(value=0)\n",
    "\n",
    "modes_of_transportation.head()"
   ]
  },
  {
   "cell_type": "code",
   "execution_count": 110,
   "metadata": {},
   "outputs": [
    {
     "data": {
      "text/html": [
       "<div>\n",
       "<style scoped>\n",
       "    .dataframe tbody tr th:only-of-type {\n",
       "        vertical-align: middle;\n",
       "    }\n",
       "\n",
       "    .dataframe tbody tr th {\n",
       "        vertical-align: top;\n",
       "    }\n",
       "\n",
       "    .dataframe thead th {\n",
       "        text-align: right;\n",
       "    }\n",
       "</style>\n",
       "<table border=\"1\" class=\"dataframe\">\n",
       "  <thead>\n",
       "    <tr style=\"text-align: right;\">\n",
       "      <th></th>\n",
       "      <th>severity</th>\n",
       "      <th>injuries</th>\n",
       "      <th>poprate</th>\n",
       "      <th>mode</th>\n",
       "      <th>county_fips</th>\n",
       "      <th>race_eth_code</th>\n",
       "    </tr>\n",
       "  </thead>\n",
       "  <tbody>\n",
       "    <tr>\n",
       "      <th>0</th>\n",
       "      <td>Killed</td>\n",
       "      <td>1.0</td>\n",
       "      <td>0.0</td>\n",
       "      <td>Vehicles</td>\n",
       "      <td>6057.0</td>\n",
       "      <td>9</td>\n",
       "    </tr>\n",
       "    <tr>\n",
       "      <th>1</th>\n",
       "      <td>Killed</td>\n",
       "      <td>7.0</td>\n",
       "      <td>0.0</td>\n",
       "      <td>All modes</td>\n",
       "      <td>6037.0</td>\n",
       "      <td>9</td>\n",
       "    </tr>\n",
       "    <tr>\n",
       "      <th>2</th>\n",
       "      <td>Severe Injury</td>\n",
       "      <td>44.0</td>\n",
       "      <td>0.0</td>\n",
       "      <td>All modes</td>\n",
       "      <td>6037.0</td>\n",
       "      <td>9</td>\n",
       "    </tr>\n",
       "    <tr>\n",
       "      <th>3</th>\n",
       "      <td>Severe Injury</td>\n",
       "      <td>1.0</td>\n",
       "      <td>0.0</td>\n",
       "      <td>Bicyclist</td>\n",
       "      <td>6037.0</td>\n",
       "      <td>9</td>\n",
       "    </tr>\n",
       "    <tr>\n",
       "      <th>4</th>\n",
       "      <td>Killed</td>\n",
       "      <td>3.0</td>\n",
       "      <td>0.0</td>\n",
       "      <td>Car/Pickup</td>\n",
       "      <td>6037.0</td>\n",
       "      <td>9</td>\n",
       "    </tr>\n",
       "  </tbody>\n",
       "</table>\n",
       "</div>"
      ],
      "text/plain": [
       "        severity  injuries  poprate        mode  county_fips  race_eth_code\n",
       "0         Killed       1.0      0.0    Vehicles       6057.0              9\n",
       "1         Killed       7.0      0.0   All modes       6037.0              9\n",
       "2  Severe Injury      44.0      0.0   All modes       6037.0              9\n",
       "3  Severe Injury       1.0      0.0   Bicyclist       6037.0              9\n",
       "4         Killed       3.0      0.0  Car/Pickup       6037.0              9"
      ]
     },
     "execution_count": 110,
     "metadata": {},
     "output_type": "execute_result"
    }
   ],
   "source": [
    "# Create a table that documents road traffic injuries\n",
    "# and is linked to the counties/race_eth tables \n",
    "traffic_injuries = traffic_injuries_df\\\n",
    "    [['severity', 'injuries', 'poprate', 'mode', 'county_fips', 'race_eth_code']].\\\n",
    "    ### We are only concerned with data corresponding to counties \n",
    "    ### so disregard rows with data corresponding to other geotypes\n",
    "    loc[traffic_injuries_df['county_fips'].isna() == False]\n",
    "\n",
    "# Reset index so that it starts from 0\n",
    "traffic_injuries.reset_index(level=0, inplace=True); del traffic_injuries['index']\n",
    "\n",
    "# NAN in 'popmode' corresponds to 0 workers so replace\n",
    "traffic_injuries = traffic_injuries.fillna(value=0)\n",
    "traffic_injuries.head()"
   ]
  },
  {
   "cell_type": "markdown",
   "metadata": {},
   "source": [
    "### Rename Tables and Columns \n",
    "- Make sure dataframe names are in accordance with SQL schema"
   ]
  },
  {
   "cell_type": "code",
   "execution_count": 123,
   "metadata": {},
   "outputs": [
    {
     "data": {
      "text/html": [
       "<div>\n",
       "<style scoped>\n",
       "    .dataframe tbody tr th:only-of-type {\n",
       "        vertical-align: middle;\n",
       "    }\n",
       "\n",
       "    .dataframe tbody tr th {\n",
       "        vertical-align: top;\n",
       "    }\n",
       "\n",
       "    .dataframe thead th {\n",
       "        text-align: right;\n",
       "    }\n",
       "</style>\n",
       "<table border=\"1\" class=\"dataframe\">\n",
       "  <thead>\n",
       "    <tr style=\"text-align: right;\">\n",
       "      <th></th>\n",
       "      <th>county_name</th>\n",
       "      <th>county_fips_code</th>\n",
       "      <th>region_code</th>\n",
       "      <th>totalpop (10^5)</th>\n",
       "    </tr>\n",
       "  </thead>\n",
       "  <tbody>\n",
       "    <tr>\n",
       "      <th>0</th>\n",
       "      <td>Alameda</td>\n",
       "      <td>6001.0</td>\n",
       "      <td>1.0</td>\n",
       "      <td>4861.99</td>\n",
       "    </tr>\n",
       "    <tr>\n",
       "      <th>1</th>\n",
       "      <td>Alpine</td>\n",
       "      <td>6003.0</td>\n",
       "      <td>3.0</td>\n",
       "      <td>1.63</td>\n",
       "    </tr>\n",
       "    <tr>\n",
       "      <th>2</th>\n",
       "      <td>Amador</td>\n",
       "      <td>6005.0</td>\n",
       "      <td>3.0</td>\n",
       "      <td>64.62</td>\n",
       "    </tr>\n",
       "    <tr>\n",
       "      <th>3</th>\n",
       "      <td>Butte</td>\n",
       "      <td>6007.0</td>\n",
       "      <td>2.0</td>\n",
       "      <td>547.41</td>\n",
       "    </tr>\n",
       "    <tr>\n",
       "      <th>4</th>\n",
       "      <td>Calaveras</td>\n",
       "      <td>6009.0</td>\n",
       "      <td>3.0</td>\n",
       "      <td>73.69</td>\n",
       "    </tr>\n",
       "  </tbody>\n",
       "</table>\n",
       "</div>"
      ],
      "text/plain": [
       "  county_name  county_fips_code  region_code  totalpop (10^5)\n",
       "0     Alameda            6001.0          1.0          4861.99\n",
       "1      Alpine            6003.0          3.0             1.63\n",
       "2      Amador            6005.0          3.0            64.62\n",
       "3       Butte            6007.0          2.0           547.41\n",
       "4   Calaveras            6009.0          3.0            73.69"
      ]
     },
     "execution_count": 123,
     "metadata": {},
     "output_type": "execute_result"
    }
   ],
   "source": [
    "counties = counties_pop_joined.rename(columns={'county_fips': 'county_fips_code',\n",
    "                                               'totalpop': 'totalpop (10^5)'\n",
    "                                              }\n",
    "                                     )\n",
    "counties.head()"
   ]
  },
  {
   "cell_type": "code",
   "execution_count": 124,
   "metadata": {},
   "outputs": [],
   "source": [
    "regions = regions_joined"
   ]
  },
  {
   "cell_type": "code",
   "execution_count": 125,
   "metadata": {},
   "outputs": [],
   "source": [
    "ethnicity = race_eth_joined"
   ]
  },
  {
   "cell_type": "code",
   "execution_count": 126,
   "metadata": {},
   "outputs": [
    {
     "data": {
      "text/html": [
       "<div>\n",
       "<style scoped>\n",
       "    .dataframe tbody tr th:only-of-type {\n",
       "        vertical-align: middle;\n",
       "    }\n",
       "\n",
       "    .dataframe tbody tr th {\n",
       "        vertical-align: top;\n",
       "    }\n",
       "\n",
       "    .dataframe thead th {\n",
       "        text-align: right;\n",
       "    }\n",
       "</style>\n",
       "<table border=\"1\" class=\"dataframe\">\n",
       "  <thead>\n",
       "    <tr style=\"text-align: right;\">\n",
       "      <th></th>\n",
       "      <th>transport_name</th>\n",
       "      <th>transport_description</th>\n",
       "      <th>num_workers_per_transport</th>\n",
       "      <th>county_fips_code</th>\n",
       "      <th>race_eth_code</th>\n",
       "    </tr>\n",
       "  </thead>\n",
       "  <tbody>\n",
       "    <tr>\n",
       "      <th>0</th>\n",
       "      <td>WALK</td>\n",
       "      <td>Walked to work</td>\n",
       "      <td>0.0</td>\n",
       "      <td>6003.0</td>\n",
       "      <td>5</td>\n",
       "    </tr>\n",
       "    <tr>\n",
       "      <th>1</th>\n",
       "      <td>ATHOME</td>\n",
       "      <td>Worked at home</td>\n",
       "      <td>54.0</td>\n",
       "      <td>6001.0</td>\n",
       "      <td>1</td>\n",
       "    </tr>\n",
       "    <tr>\n",
       "      <th>2</th>\n",
       "      <td>ATHOME</td>\n",
       "      <td>Worked at home</td>\n",
       "      <td>3001.0</td>\n",
       "      <td>6001.0</td>\n",
       "      <td>2</td>\n",
       "    </tr>\n",
       "    <tr>\n",
       "      <th>3</th>\n",
       "      <td>ATHOME</td>\n",
       "      <td>Worked at home</td>\n",
       "      <td>2287.0</td>\n",
       "      <td>6001.0</td>\n",
       "      <td>3</td>\n",
       "    </tr>\n",
       "    <tr>\n",
       "      <th>4</th>\n",
       "      <td>ATHOME</td>\n",
       "      <td>Worked at home</td>\n",
       "      <td>2080.0</td>\n",
       "      <td>6001.0</td>\n",
       "      <td>4</td>\n",
       "    </tr>\n",
       "  </tbody>\n",
       "</table>\n",
       "</div>"
      ],
      "text/plain": [
       "  transport_name transport_description  num_workers_per_transport  \\\n",
       "0           WALK        Walked to work                        0.0   \n",
       "1         ATHOME        Worked at home                       54.0   \n",
       "2         ATHOME        Worked at home                     3001.0   \n",
       "3         ATHOME        Worked at home                     2287.0   \n",
       "4         ATHOME        Worked at home                     2080.0   \n",
       "\n",
       "   county_fips_code  race_eth_code  \n",
       "0            6003.0              5  \n",
       "1            6001.0              1  \n",
       "2            6001.0              2  \n",
       "3            6001.0              3  \n",
       "4            6001.0              4  "
      ]
     },
     "execution_count": 126,
     "metadata": {},
     "output_type": "execute_result"
    }
   ],
   "source": [
    "modes_of_transportation = modes_of_transportation.\\\n",
    "                            rename(columns ={'mode': 'transport_name',\n",
    "                                             'mode_name': 'transport_description',\n",
    "                                             'pop_mode': 'num_workers_per_transport',\n",
    "                                             'county_fips': 'county_fips_code'\n",
    "                                            }\n",
    "                                  )\n",
    "modes_of_transportation.head()"
   ]
  },
  {
   "cell_type": "code",
   "execution_count": 127,
   "metadata": {},
   "outputs": [
    {
     "data": {
      "text/html": [
       "<div>\n",
       "<style scoped>\n",
       "    .dataframe tbody tr th:only-of-type {\n",
       "        vertical-align: middle;\n",
       "    }\n",
       "\n",
       "    .dataframe tbody tr th {\n",
       "        vertical-align: top;\n",
       "    }\n",
       "\n",
       "    .dataframe thead th {\n",
       "        text-align: right;\n",
       "    }\n",
       "</style>\n",
       "<table border=\"1\" class=\"dataframe\">\n",
       "  <thead>\n",
       "    <tr style=\"text-align: right;\">\n",
       "      <th></th>\n",
       "      <th>severity</th>\n",
       "      <th>injuries</th>\n",
       "      <th>rate_of_injuries_in_pop</th>\n",
       "      <th>injury_transport_mode</th>\n",
       "      <th>county_fips_code</th>\n",
       "      <th>race_eth_code</th>\n",
       "    </tr>\n",
       "  </thead>\n",
       "  <tbody>\n",
       "    <tr>\n",
       "      <th>0</th>\n",
       "      <td>Killed</td>\n",
       "      <td>1.0</td>\n",
       "      <td>0.0</td>\n",
       "      <td>Vehicles</td>\n",
       "      <td>6057.0</td>\n",
       "      <td>9</td>\n",
       "    </tr>\n",
       "    <tr>\n",
       "      <th>1</th>\n",
       "      <td>Killed</td>\n",
       "      <td>7.0</td>\n",
       "      <td>0.0</td>\n",
       "      <td>All modes</td>\n",
       "      <td>6037.0</td>\n",
       "      <td>9</td>\n",
       "    </tr>\n",
       "    <tr>\n",
       "      <th>2</th>\n",
       "      <td>Severe Injury</td>\n",
       "      <td>44.0</td>\n",
       "      <td>0.0</td>\n",
       "      <td>All modes</td>\n",
       "      <td>6037.0</td>\n",
       "      <td>9</td>\n",
       "    </tr>\n",
       "    <tr>\n",
       "      <th>3</th>\n",
       "      <td>Severe Injury</td>\n",
       "      <td>1.0</td>\n",
       "      <td>0.0</td>\n",
       "      <td>Bicyclist</td>\n",
       "      <td>6037.0</td>\n",
       "      <td>9</td>\n",
       "    </tr>\n",
       "    <tr>\n",
       "      <th>4</th>\n",
       "      <td>Killed</td>\n",
       "      <td>3.0</td>\n",
       "      <td>0.0</td>\n",
       "      <td>Car/Pickup</td>\n",
       "      <td>6037.0</td>\n",
       "      <td>9</td>\n",
       "    </tr>\n",
       "  </tbody>\n",
       "</table>\n",
       "</div>"
      ],
      "text/plain": [
       "        severity  injuries  rate_of_injuries_in_pop injury_transport_mode  \\\n",
       "0         Killed       1.0                      0.0              Vehicles   \n",
       "1         Killed       7.0                      0.0             All modes   \n",
       "2  Severe Injury      44.0                      0.0             All modes   \n",
       "3  Severe Injury       1.0                      0.0             Bicyclist   \n",
       "4         Killed       3.0                      0.0            Car/Pickup   \n",
       "\n",
       "   county_fips_code  race_eth_code  \n",
       "0            6057.0              9  \n",
       "1            6037.0              9  \n",
       "2            6037.0              9  \n",
       "3            6037.0              9  \n",
       "4            6037.0              9  "
      ]
     },
     "execution_count": 127,
     "metadata": {},
     "output_type": "execute_result"
    }
   ],
   "source": [
    "traffic_injuries.columns\n",
    "traffic_injuries = traffic_injuries.rename(columns={'poprate': 'rate_of_injuries_in_pop',\n",
    "                                                    'mode': 'injury_transport_mode',\n",
    "                                                    'county_fips': 'county_fips_code'\n",
    "                                                   }\n",
    "                                          )\n",
    "traffic_injuries.head()"
   ]
  },
  {
   "cell_type": "markdown",
   "metadata": {},
   "source": [
    "## Load\n",
    "- I've pasted in the sample code from Austin's lecture"
   ]
  },
  {
   "cell_type": "markdown",
   "metadata": {},
   "source": [
    "### Connect to local database"
   ]
  },
  {
   "cell_type": "code",
   "execution_count": null,
   "metadata": {},
   "outputs": [],
   "source": [
    "rds_connection_string = \"<insert user name>:<insert password>@localhost:5432/customer_db\"\n",
    "engine = create_engine(f'postgresql://{rds_connection_string}')"
   ]
  },
  {
   "cell_type": "markdown",
   "metadata": {},
   "source": [
    "### Check for tables"
   ]
  },
  {
   "cell_type": "code",
   "execution_count": null,
   "metadata": {},
   "outputs": [],
   "source": [
    "engine.table_names()"
   ]
  },
  {
   "cell_type": "markdown",
   "metadata": {},
   "source": [
    "### Use pandas to load csv converted DataFrame into database"
   ]
  },
  {
   "cell_type": "code",
   "execution_count": null,
   "metadata": {},
   "outputs": [],
   "source": [
    "new_customer_data_df.to_sql(name='customer_name', con=engine, if_exists='append', ind"
   ]
  },
  {
   "cell_type": "markdown",
   "metadata": {},
   "source": [
    "### Query tables to confirm data has been added"
   ]
  },
  {
   "cell_type": "code",
   "execution_count": null,
   "metadata": {},
   "outputs": [],
   "source": [
    "pd.read_sql_query('select * from customer_name', con=engine).head()"
   ]
  }
 ],
 "metadata": {
  "kernelspec": {
   "display_name": "Python 3",
   "language": "python",
   "name": "python3"
  },
  "language_info": {
   "codemirror_mode": {
    "name": "ipython",
    "version": 3
   },
   "file_extension": ".py",
   "mimetype": "text/x-python",
   "name": "python",
   "nbconvert_exporter": "python",
   "pygments_lexer": "ipython3",
   "version": "3.7.3"
  }
 },
 "nbformat": 4,
 "nbformat_minor": 2
}
