{
 "cells": [
  {
   "cell_type": "markdown",
   "metadata": {},
   "source": [
    "# Transportation in California Counties "
   ]
  },
  {
   "cell_type": "markdown",
   "metadata": {},
   "source": [
    "## Preliminaries"
   ]
  },
  {
   "cell_type": "code",
   "execution_count": null,
   "metadata": {},
   "outputs": [],
   "source": [
    "# Dependencies\n",
    "import pylab as plt\n",
    "import pandas as pd\n",
    "import numpy as np\n",
    "import os\n",
    "import time\n",
    "from sqlalchemy import create_engine"
   ]
  },
  {
   "cell_type": "markdown",
   "metadata": {},
   "source": [
    "## Extract"
   ]
  },
  {
   "cell_type": "code",
   "execution_count": null,
   "metadata": {},
   "outputs": [],
   "source": [
    "# File Paths to CSVs we are importing\n",
    "traffic_modes_path = os.path.join(\"Resources\", \"transportation-to-work.csv\")\n",
    "traffic_injuries_path = os.path.join(\"Resources\", \"road-traffic-injuries.csv\")\n",
    "\n",
    "# Use Pandas to read CSV files\n",
    "traffic_modes_df = pd.read_csv(traffic_modes_path, low_memory=False)\n",
    "traffic_injuries_df = pd.read_csv(traffic_injuries_path, low_memory=False)"
   ]
  },
  {
   "cell_type": "markdown",
   "metadata": {},
   "source": [
    "## Transform\n",
    "### Group Datasets to Build Category Specific Tables"
   ]
  },
  {
   "cell_type": "code",
   "execution_count": null,
   "metadata": {},
   "outputs": [],
   "source": [
    "# Build reference tables orgnaized by county, region, transportation modes, and race and ethnicity\n",
    "### Tables for traffic_modes_df\n",
    "TM_counties_df = pd.DataFrame\\\n",
    "    (traffic_modes_df.groupby(['county_name', 'county_fips', 'region_code']).size())\n",
    "\n",
    "TM_regions_df = pd.DataFrame\\\n",
    "    (traffic_modes_df.groupby(['region_name', 'region_code']).size())\n",
    "\n",
    "TM_transport_modes_df = pd.DataFrame\\\n",
    "    (traffic_modes_df.groupby(['mode', 'mode_name']).size()) \n",
    "\n",
    "TM_race_eth_df = pd.DataFrame\\\n",
    "    (traffic_modes_df.groupby(['race_eth_name', 'race_eth_code']).size())  \n",
    "\n",
    "### Tables for traffic_injuries_df\n",
    "TI_counties_df = pd.DataFrame\\\n",
    "    (traffic_injuries_df.groupby(['county_name', 'county_fips', 'region_code']).size())\n",
    "\n",
    "TI_regions_df = pd.DataFrame\\\n",
    "    (traffic_injuries_df.groupby(['region_name', 'region_code']).size())\n",
    "\n",
    "TI_transport_modes_df = pd.DataFrame\\\n",
    "    (traffic_injuries_df.groupby(['mode']).size())                           \n",
    "\n",
    "TI_race_eth_df = pd.DataFrame\\\n",
    "    (traffic_injuries_df.groupby(['race_eth_name', 'race_eth_code']).size())"
   ]
  },
  {
   "cell_type": "code",
   "execution_count": null,
   "metadata": {},
   "outputs": [],
   "source": [
    "# Delete unecessary columns and reset indices\n",
    "df_list = [TM_counties_df, TM_regions_df, \n",
    "           TM_transport_modes_df, TM_race_eth_df,\n",
    "           TI_counties_df, TI_regions_df, \n",
    "           TI_transport_modes_df, TI_race_eth_df]\n",
    "\n",
    "for df in df_list:\n",
    "    df.reset_index(inplace=True)\n",
    "    del df[0]"
   ]
  },
  {
   "cell_type": "code",
   "execution_count": null,
   "metadata": {},
   "outputs": [],
   "source": [
    "# Join traffic_modes tables to traffic_injuries table for all categories accept transportation modes\n",
    "counties_joined = pd.merge(TM_counties_df, TI_counties_df, \\\n",
    "                           on=['county_name', 'county_fips', 'region_code'], how='outer')\n",
    "\n",
    "regions_joined = pd.merge(TM_regions_df, TI_regions_df, \\\n",
    "                          on=['region_name', 'region_code'], how='outer')\n",
    "\n",
    "race_eth_joined = pd.merge(TM_race_eth_df, TI_race_eth_df, \\\n",
    "                           on=['race_eth_name', 'race_eth_code'], how='outer')"
   ]
  },
  {
   "cell_type": "code",
   "execution_count": null,
   "metadata": {},
   "outputs": [],
   "source": [
    "# We want to provide total population per county, only traffic_injuries_df supplies this info\n",
    "total_pop_per_county = traffic_injuries_df\\\n",
    "    [['county_name','totalpop']].groupby(['county_name']).sum()\n",
    "\n",
    "# Reset the index so that 'county_name' is treated as a column\n",
    "total_pop_per_county.reset_index(inplace=True)\n",
    "total_pop_per_county.head()"
   ]
  },
  {
   "cell_type": "code",
   "execution_count": null,
   "metadata": {},
   "outputs": [],
   "source": [
    "# Add totalpop to counties_joined\n",
    "counties_pop_joined = pd.merge\\\n",
    "    (counties_joined, total_pop_per_county, on='county_name', how='outer')\n",
    "\n",
    "# Adjust number format of 'totalpop' column\n",
    "counties_pop_joined['totalpop'] = counties_pop_joined['totalpop']/(10**5)\n",
    "counties_pop_joined['totalpop'] = counties_pop_joined['totalpop'].round(2)\n",
    "\n",
    "counties_pop_joined.head()"
   ]
  },
  {
   "cell_type": "markdown",
   "metadata": {},
   "source": [
    "### Filter Datasets for Desired Statistics"
   ]
  },
  {
   "cell_type": "code",
   "execution_count": null,
   "metadata": {},
   "outputs": [],
   "source": [
    "# Create a table that documents workers modes of transportation\n",
    "# and is linked to the counties/race_eth tables \n",
    "### We are only concerned with data corresponding to counties \n",
    "    ### so disregard rows with data corresponding to other geotypes\n",
    "\n",
    "modes_of_transportation = traffic_modes_df\\\n",
    "    [['mode','mode_name', 'pop_mode','county_fips', 'race_eth_code']].\\\n",
    "loc[traffic_modes_df['county_fips'].isna() == False]\n",
    "\n",
    "# Reset index so that it starts from 0\n",
    "modes_of_transportation.reset_index(level=0, inplace=True); del modes_of_transportation['index']\n",
    "\n",
    "# NAN in 'popmode' corresponds to 0 workers so replace\n",
    "modes_of_transportation = modes_of_transportation.fillna(value=0)\n",
    "\n",
    "modes_of_transportation.head()"
   ]
  },
  {
   "cell_type": "code",
   "execution_count": null,
   "metadata": {},
   "outputs": [],
   "source": [
    "# Create a table that documents road traffic injuries\n",
    "# and is linked to the counties/race_eth tables \n",
    "\n",
    "### We are only concerned with data corresponding to counties \n",
    "    ### so disregard rows with data corresponding to other geotypes\n",
    "\n",
    "traffic_injuries = traffic_injuries_df\\\n",
    "    [['severity', 'injuries', 'poprate', 'mode', 'county_fips', 'race_eth_code']].\\\n",
    "loc[traffic_injuries_df['county_fips'].isna() == False]\n",
    "\n",
    "# Reset index so that it starts from 0\n",
    "traffic_injuries.reset_index(level=0, inplace=True); del traffic_injuries['index']\n",
    "\n",
    "# NAN in 'popmode' corresponds to 0 workers so replace\n",
    "traffic_injuries = traffic_injuries.fillna(value=0)\n",
    "traffic_injuries.head()"
   ]
  },
  {
   "cell_type": "markdown",
   "metadata": {},
   "source": [
    "### Rename Tables and Columns \n",
    "- Make sure dataframe names are in accordance with SQL schema"
   ]
  },
  {
   "cell_type": "code",
   "execution_count": null,
   "metadata": {},
   "outputs": [],
   "source": [
    "counties = counties_pop_joined.rename(columns={'county_fips': 'county_fips_code',\n",
    "                                               'totalpop': 'totalpop'\n",
    "                                              }\n",
    "                                     )\n",
    "counties.head()"
   ]
  },
  {
   "cell_type": "code",
   "execution_count": null,
   "metadata": {},
   "outputs": [],
   "source": [
    "regions = regions_joined\n",
    "regions.head()"
   ]
  },
  {
   "cell_type": "code",
   "execution_count": null,
   "metadata": {},
   "outputs": [],
   "source": [
    "ethnicity = race_eth_joined"
   ]
  },
  {
   "cell_type": "code",
   "execution_count": null,
   "metadata": {},
   "outputs": [],
   "source": [
    "modes_of_transportation = modes_of_transportation.\\\n",
    "                            rename(columns ={'mode': 'transport_name',\n",
    "                                             'mode_name': 'transport_description',\n",
    "                                             'pop_mode': 'num_workers_per_transport',\n",
    "                                             'county_fips': 'county_fips_code'\n",
    "                                            }\n",
    "                                  )\n",
    "modes_of_transportation.head()"
   ]
  },
  {
   "cell_type": "code",
   "execution_count": null,
   "metadata": {},
   "outputs": [],
   "source": [
    "traffic_injuries.columns\n",
    "traffic_injuries = traffic_injuries.rename(columns={'poprate': 'rate_of_injuries_in_pop',\n",
    "                                                    'mode': 'injury_transport_mode',\n",
    "                                                    'county_fips': 'county_fips_code'\n",
    "                                                   }\n",
    "                                          )\n",
    "traffic_injuries.head()"
   ]
  },
  {
   "cell_type": "markdown",
   "metadata": {},
   "source": [
    "## Load"
   ]
  },
  {
   "cell_type": "markdown",
   "metadata": {},
   "source": [
    "### Connect to local database"
   ]
  },
  {
   "cell_type": "code",
   "execution_count": null,
   "metadata": {},
   "outputs": [],
   "source": [
    "#Insert credentials for DB connection\n",
    "rds_connection_string = \"<USERNAME:PASSWORD>@localhost:5432/etl_project2\"\n",
    "engine = create_engine(f'postgresql://{rds_connection_string}')\n"
   ]
  },
  {
   "cell_type": "markdown",
   "metadata": {},
   "source": [
    "### Check for tables"
   ]
  },
  {
   "cell_type": "code",
   "execution_count": null,
   "metadata": {},
   "outputs": [],
   "source": [
    "engine.table_names()"
   ]
  },
  {
   "cell_type": "markdown",
   "metadata": {},
   "source": [
    "### Use pandas to load csv converted DataFrame into database"
   ]
  },
  {
   "cell_type": "code",
   "execution_count": null,
   "metadata": {},
   "outputs": [],
   "source": [
    "regions.to_sql(name='regions', con=engine, if_exists='append', index=False)"
   ]
  },
  {
   "cell_type": "code",
   "execution_count": null,
   "metadata": {},
   "outputs": [],
   "source": [
    "counties.to_sql(name='counties', con=engine, if_exists='append', index=False)"
   ]
  },
  {
   "cell_type": "code",
   "execution_count": null,
   "metadata": {},
   "outputs": [],
   "source": [
    "ethnicity.to_sql(name='ethnicity', con=engine, if_exists='append', index=False)"
   ]
  },
  {
   "cell_type": "code",
   "execution_count": null,
   "metadata": {},
   "outputs": [],
   "source": [
    "traffic_injuries.to_sql(name='traffic_injuries', con=engine, if_exists='append', index=False)"
   ]
  },
  {
   "cell_type": "code",
   "execution_count": null,
   "metadata": {},
   "outputs": [],
   "source": [
    "modes_of_transportation.to_sql(name='modes_of_transportation', con=engine, if_exists='append', index=False)"
   ]
  },
  {
   "cell_type": "markdown",
   "metadata": {},
   "source": [
    "### Query tables to confirm data has been added"
   ]
  },
  {
   "cell_type": "code",
   "execution_count": null,
   "metadata": {},
   "outputs": [],
   "source": [
    "pd.read_sql_query('select * from regions', con=engine).head()"
   ]
  },
  {
   "cell_type": "code",
   "execution_count": null,
   "metadata": {},
   "outputs": [],
   "source": []
  }
 ],
 "metadata": {
  "kernelspec": {
   "display_name": "Python 3",
   "language": "python",
   "name": "python3"
  },
  "language_info": {
   "codemirror_mode": {
    "name": "ipython",
    "version": 3
   },
   "file_extension": ".py",
   "mimetype": "text/x-python",
   "name": "python",
   "nbconvert_exporter": "python",
   "pygments_lexer": "ipython3",
   "version": "3.7.3"
  }
 },
 "nbformat": 4,
 "nbformat_minor": 2
}
