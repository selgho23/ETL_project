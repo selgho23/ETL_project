{
 "cells": [
  {
   "cell_type": "markdown",
   "metadata": {},
   "source": [
    "## New Database and Tables\n",
    "- "
   ]
  },
  {
   "cell_type": "code",
   "execution_count": 9,
   "metadata": {},
   "outputs": [],
   "source": [
    "# Dependencies\n",
    "import pylab as plt\n",
    "import pandas as pd\n",
    "import numpy as np\n",
    "import os\n",
    "import time"
   ]
  },
  {
   "cell_type": "code",
   "execution_count": 2,
   "metadata": {},
   "outputs": [],
   "source": [
    "# Data File Paths\n",
    "traffic_modes_path = os.path.join(\"Resources\", \"transportation-to-work.csv\")\n",
    "traffic_injuries_path = os.path.join(\"Resources\", \"road-traffic-injuries.csv\")\n",
    "\n",
    "# Use Pandas to read csv files\n",
    "traffic_modes_df = pd.read_csv(traffic_modes_path, low_memory=False)\n",
    "traffic_injuries_df = pd.read_csv(traffic_injuries_path, low_memory=False)"
   ]
  },
  {
   "cell_type": "code",
   "execution_count": 3,
   "metadata": {},
   "outputs": [
    {
     "data": {
      "text/plain": [
       "Index(['ind_id', 'ind_definition', 'reportyear', 'race_eth_code',\n",
       "       'race_eth_name', 'geotype', 'geotypevalue', 'geoname', 'county_name',\n",
       "       'county_fips', 'region_name', 'region_code', 'mode', 'mode_name',\n",
       "       'pop_mode', 'pop_total', 'percent', 'LL95CI_percent', 'UL95CI_percent',\n",
       "       'percent_se', 'percent_rse', 'CA_decile', 'CA_RR', 'version'],\n",
       "      dtype='object')"
      ]
     },
     "execution_count": 3,
     "metadata": {},
     "output_type": "execute_result"
    }
   ],
   "source": [
    "traffic_modes_df.columns"
   ]
  },
  {
   "cell_type": "code",
   "execution_count": 4,
   "metadata": {},
   "outputs": [
    {
     "data": {
      "text/plain": [
       "Index(['ind_id', 'ind_definition', 'reportyear', 'race_eth_code',\n",
       "       'race_eth_name', 'geotype', 'geotypevalue', 'geoname', 'county_name',\n",
       "       'county_fips', 'region_name', 'region_code', 'mode', 'severity',\n",
       "       'injuries', 'totalpop', 'poprate', 'LL95CI_poprate', 'UL95CI_poprate',\n",
       "       'poprate_se', 'poprate_rse', 'CA_decile_pop', 'CA_RR_poprate',\n",
       "       'avmttotal', 'avmtrate', 'LL95CI_avmtrate', 'UL95CI_avmtrate',\n",
       "       'avmtrate_se', 'avmtrate_rse', 'CA_decile_avmt', 'CA_RR_avmtrate',\n",
       "       'groupquarters', 'version'],\n",
       "      dtype='object')"
      ]
     },
     "execution_count": 4,
     "metadata": {},
     "output_type": "execute_result"
    }
   ],
   "source": [
    "traffic_injuries_df.columns"
   ]
  },
  {
   "cell_type": "code",
   "execution_count": 29,
   "metadata": {},
   "outputs": [],
   "source": [
    "# Build reference tables orgnaized by county, region, transportation modes, and race and ethnicity\n",
    "### Tables for traffic_modes_df\n",
    "TM_counties_df = pd.DataFrame(traffic_modes_df.groupby(['county_name', 'county_fips']).size())\n",
    "TM_regions_df = pd.DataFrame(traffic_modes_df.groupby(['region_name', 'region_code']).size())\n",
    "TM_transport_modes_df = pd.DataFrame(traffic_modes_df.groupby(['mode', 'mode_name']).size())                           \n",
    "TM_race_eth_df = pd.DataFrame(traffic_modes_df.groupby(['race_eth_name', 'race_eth_code']).size())  \n",
    "\n",
    "### Tables for traffic_injuries_df\n",
    "TI_counties_df = pd.DataFrame(traffic_injuries_df.groupby(['county_name', 'county_fips']).size())\n",
    "TI_regions_df = pd.DataFrame(traffic_injuries_df.groupby(['region_name', 'region_code']).size())\n",
    "TI_transport_modes_df = pd.DataFrame(traffic_injuries_df.groupby(['mode']).size())                           \n",
    "TI_race_eth_df = pd.DataFrame(traffic_injuries_df.groupby(['race_eth_name', 'race_eth_code']).size())"
   ]
  },
  {
   "cell_type": "code",
   "execution_count": 30,
   "metadata": {},
   "outputs": [],
   "source": [
    "# Delete unecessary columns and reset indices\n",
    "df_list = [TM_counties_df, TM_regions_df, TM_transport_modes_df, TM_race_eth_df,\n",
    "           TI_counties_df, TI_regions_df, TI_transport_modes_df, TI_race_eth_df]\n",
    "\n",
    "for df in df_list:\n",
    "    df.reset_index(inplace=True)\n",
    "    del df[0]"
   ]
  },
  {
   "cell_type": "code",
   "execution_count": 35,
   "metadata": {},
   "outputs": [],
   "source": [
    "# Join traffic_modes tables to traffic_injuries table for all categories accept transportation modes\n",
    "counties_joined = pd.merge(TM_counties_df, TI_counties_df, on=['county_name', 'county_fips'], how='outer')\n",
    "regions_joined = pd.merge(TM_regions_df, TI_regions_df, on=['region_name', 'region_code'], how='outer')\n",
    "race_eth_joined = pd.merge(TM_race_eth_df, TI_race_eth_df, on=['race_eth_name', 'race_eth_code'], how='outer')"
   ]
  },
  {
   "cell_type": "markdown",
   "metadata": {},
   "source": [
    "## TO-DO\n",
    "- add total_pop and region_code to counties table\n",
    "- build traffic_modes table and traffic_injuries table in accordane with published schema\n",
    "- send everything to sql database"
   ]
  },
  {
   "cell_type": "code",
   "execution_count": 51,
   "metadata": {},
   "outputs": [
    {
     "data": {
      "text/plain": [
       "116"
      ]
     },
     "execution_count": 51,
     "metadata": {},
     "output_type": "execute_result"
    }
   ],
   "source": []
  },
  {
   "cell_type": "code",
   "execution_count": 52,
   "metadata": {},
   "outputs": [
    {
     "data": {
      "text/plain": [
       "116"
      ]
     },
     "execution_count": 52,
     "metadata": {},
     "output_type": "execute_result"
    }
   ],
   "source": []
  },
  {
   "cell_type": "code",
   "execution_count": null,
   "metadata": {},
   "outputs": [],
   "source": [
    "traffic_modes_df = traffic_modes_df.reset_index(drop=True)\n",
    "traffic_injuries_df = traffic_injuries_df.reset_index(drop=True)"
   ]
  },
  {
   "cell_type": "code",
   "execution_count": null,
   "metadata": {},
   "outputs": [],
   "source": [
    "traffic_modes_df = traffic_modes_df.reset_index(drop=True)\n",
    "traffic_injuries_df = traffic_injuries_df.reset_index(drop=True)"
   ]
  },
  {
   "cell_type": "code",
   "execution_count": null,
   "metadata": {},
   "outputs": [],
   "source": []
  }
 ],
 "metadata": {
  "kernelspec": {
   "display_name": "Python 3",
   "language": "python",
   "name": "python3"
  },
  "language_info": {
   "codemirror_mode": {
    "name": "ipython",
    "version": 3
   },
   "file_extension": ".py",
   "mimetype": "text/x-python",
   "name": "python",
   "nbconvert_exporter": "python",
   "pygments_lexer": "ipython3",
   "version": "3.7.3"
  }
 },
 "nbformat": 4,
 "nbformat_minor": 2
}
